{
 "cells": [
  {
   "cell_type": "markdown",
   "metadata": {},
   "source": [
    "# 1000:A+B Problem\n"
   ]
  },
  {
   "cell_type": "code",
   "execution_count": 1,
   "metadata": {},
   "outputs": [
    {
     "name": "stdout",
     "output_type": "stream",
     "text": [
      "1 2\n",
      "3\n"
     ]
    }
   ],
   "source": [
    "a,b=map(int,input().split())\n",
    "print(a+b)"
   ]
  },
  {
   "cell_type": "markdown",
   "metadata": {},
   "source": [
    " 注意：map(int,input().split())，解决一行多输入"
   ]
  },
  {
   "cell_type": "markdown",
   "metadata": {},
   "source": [
    "# 2675:计算书费"
   ]
  },
  {
   "cell_type": "code",
   "execution_count": 11,
   "metadata": {},
   "outputs": [
    {
     "name": "stdout",
     "output_type": "stream",
     "text": [
      "2\n",
      "1 5 8 10 5 1 1 2 3 4 \n",
      "2140.20\n",
      "3 5 6 3 100 1 1 0 1 0\n",
      "4427.80\n"
     ]
    }
   ],
   "source": [
    "a=[28.9,32.7,45.6,78,35,86.2,27.8,43,56,65]\n",
    "x=int(input())\n",
    "for i in range(x):\n",
    "    total=0\n",
    "    y=list(map(int,input().split()))\n",
    "    for j in range(10):\n",
    "        total=total+y[j]*a[j]\n",
    "    print('%.2f' % total)"
   ]
  },
  {
   "cell_type": "markdown",
   "metadata": {},
   "source": [
    "# 2676:整数的个数\n"
   ]
  },
  {
   "cell_type": "code",
   "execution_count": 6,
   "metadata": {},
   "outputs": [
    {
     "name": "stdout",
     "output_type": "stream",
     "text": [
      "5\n",
      "1 5 8 10 5\n",
      "1\n",
      "2\n",
      "1\n"
     ]
    }
   ],
   "source": [
    "x=int(input())\n",
    "num1=0;\n",
    "num5=0;\n",
    "num10=0;\n",
    "_list=list(map(int,input().split()))\n",
    "for i in _list:\n",
    "    if(i==1):\n",
    "        num1=num1+1\n",
    "    elif(i==5):\n",
    "        num5=num5+1\n",
    "    elif(i==10):\n",
    "        num10=num10+1\n",
    "print(num1)\n",
    "print(num5)\n",
    "print(num10)"
   ]
  },
  {
   "cell_type": "markdown",
   "metadata": {},
   "source": [
    "# 2679:整数的立方和"
   ]
  },
  {
   "cell_type": "code",
   "execution_count": 13,
   "metadata": {},
   "outputs": [
    {
     "name": "stdout",
     "output_type": "stream",
     "text": [
      "5\n",
      "225\n"
     ]
    }
   ],
   "source": [
    "x=int(input())\n",
    "num=0;\n",
    "for i in range(x+1):\n",
    "    num=num+i*i*i\n",
    "print(num)"
   ]
  },
  {
   "cell_type": "markdown",
   "metadata": {},
   "source": [
    "# 2681 求字符串长度"
   ]
  },
  {
   "cell_type": "code",
   "execution_count": 3,
   "metadata": {},
   "outputs": [
    {
     "name": "stdout",
     "output_type": "stream",
     "text": [
      "I love BeiJing\n",
      "14\n"
     ]
    }
   ],
   "source": [
    "a=input()\n",
    "print(len(a))\n",
    "    "
   ]
  },
  {
   "cell_type": "markdown",
   "metadata": {},
   "source": [
    "# 2684 求阶乘的和"
   ]
  },
  {
   "cell_type": "code",
   "execution_count": 16,
   "metadata": {},
   "outputs": [
    {
     "name": "stdout",
     "output_type": "stream",
     "text": [
      "5\n",
      "153\n"
     ]
    }
   ],
   "source": [
    "def f(num):\n",
    "    x=1;\n",
    "    for i in range(1,num+1):\n",
    "        x=x*i\n",
    "    return x\n",
    "\n",
    "a=int(input())\n",
    "tmp=0\n",
    "for i in range(1,a+1):\n",
    "    tmp=tmp+f(i)\n",
    "print(tmp)"
   ]
  },
  {
   "cell_type": "markdown",
   "metadata": {},
   "source": [
    "#  2685 打印水仙花数"
   ]
  },
  {
   "cell_type": "code",
   "execution_count": 19,
   "metadata": {},
   "outputs": [
    {
     "name": "stdout",
     "output_type": "stream",
     "text": [
      "153\n",
      "370\n",
      "371\n",
      "407\n"
     ]
    }
   ],
   "source": [
    "for i in range(152,1000):\n",
    "    bai=i//100;\n",
    "    shi=(i-bai*100)//10\n",
    "    ge=i-bai*100-shi*10\n",
    "    if(i==bai*bai*bai+shi*shi*shi+ge*ge*ge):\n",
    "        print(i)\n",
    "    "
   ]
  },
  {
   "cell_type": "markdown",
   "metadata": {},
   "source": [
    "# 2688 求字母的个数"
   ]
  },
  {
   "cell_type": "code",
   "execution_count": 26,
   "metadata": {},
   "outputs": [
    {
     "name": "stdout",
     "output_type": "stream",
     "text": [
      "If so, you already have a Google Account. You can sign in on the right.\n",
      "5  4  3  7  3\n"
     ]
    }
   ],
   "source": [
    "num_a=0\n",
    "num_e=0\n",
    "num_i=0\n",
    "num_o=0\n",
    "num_u=0\n",
    "a=input()\n",
    "for i in a:\n",
    "    if(i=='a'):\n",
    "        num_a=num_a+1\n",
    "    elif(i=='e'):\n",
    "        num_e=num_e+1\n",
    "    elif(i=='i'):\n",
    "        num_i=num_i+1\n",
    "    elif(i=='o'):\n",
    "        num_o=num_o+1\n",
    "    elif(i=='u'):\n",
    "        num_u=num_u+1\n",
    "print(num_a,'',num_e,'',num_i,'',num_o,'',num_u)\n",
    "    "
   ]
  },
  {
   "cell_type": "code",
   "execution_count": null,
   "metadata": {},
   "outputs": [],
   "source": []
  }
 ],
 "metadata": {
  "kernelspec": {
   "display_name": "Python 3",
   "language": "python",
   "name": "python3"
  },
  "language_info": {
   "codemirror_mode": {
    "name": "ipython",
    "version": 3
   },
   "file_extension": ".py",
   "mimetype": "text/x-python",
   "name": "python",
   "nbconvert_exporter": "python",
   "pygments_lexer": "ipython3",
   "version": "3.7.3"
  }
 },
 "nbformat": 4,
 "nbformat_minor": 2
}
